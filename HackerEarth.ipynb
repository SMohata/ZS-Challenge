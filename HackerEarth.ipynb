{
  "nbformat": 4,
  "nbformat_minor": 0,
  "metadata": {
    "colab": {
      "name": "HackerEarth.ipynb",
      "provenance": [],
      "authorship_tag": "ABX9TyNJivqBm+qKsIZq3URKZF7M",
      "include_colab_link": true
    },
    "kernelspec": {
      "name": "python3",
      "display_name": "Python 3"
    }
  },
  "cells": [
    {
      "cell_type": "markdown",
      "metadata": {
        "id": "view-in-github",
        "colab_type": "text"
      },
      "source": [
        "<a href=\"https://colab.research.google.com/github/SMohata/ZS-Challenge/blob/master/HackerEarth.ipynb\" target=\"_parent\"><img src=\"https://colab.research.google.com/assets/colab-badge.svg\" alt=\"Open In Colab\"/></a>"
      ]
    },
    {
      "cell_type": "code",
      "metadata": {
        "id": "nVEgDqRUxiv_",
        "colab_type": "code",
        "colab": {
          "base_uri": "https://localhost:8080/",
          "height": 90
        },
        "outputId": "de1574c4-2bc7-449f-c69c-f699df2e2c5c"
      },
      "source": [
        "import pandas as pd\n",
        "import numpy as np\n",
        "import seaborn as sns\n",
        "import matplotlib.pyplot as plt\n",
        "%matplotlib inline\n",
        "import warnings\n",
        "warnings.filterwarnings('ignore')\n",
        "\n",
        "import re\n",
        "import nltk\n",
        "import string\n",
        "from nltk.corpus import stopwords\n",
        "nltk.download('stopwords')\n",
        "nltk.download('wordnet')\n",
        "  \n",
        "\n",
        "from sklearn.feature_extraction.text import TfidfTransformer\n",
        "from sklearn.feature_extraction.text import TfidfVectorizer\n",
        "from sklearn.feature_extraction.text import CountVectorizer\n",
        "from nltk.stem.porter import PorterStemmer\n",
        "\n",
        "from nltk.stem.wordnet import WordNetLemmatizer\n",
        "from gensim.models import Word2Vec\n",
        "from gensim.models import KeyedVectors\n",
        "from tqdm import tqdm\n",
        "\n",
        "from sklearn.model_selection import train_test_split\n",
        "from sklearn.metrics import accuracy_score\n",
        "from sklearn.metrics import confusion_matrix\n",
        "from sklearn.metrics import precision_score\n",
        "from sklearn.metrics import f1_score\n",
        "from sklearn.metrics import recall_score\n",
        "\n",
        "from sklearn.linear_model import LogisticRegression\n",
        "from sklearn.svm import LinearSVC, SVC\n",
        "from sklearn.ensemble import RandomForestClassifier\n",
        "from sklearn.ensemble import VotingClassifier\n",
        "from sklearn.multiclass import OneVsRestClassifier\n",
        "from sklearn.metrics import classification_report\n",
        "from sklearn.metrics import accuracy_score\n",
        "from nltk.classify.scikitlearn import SklearnClassifier\n",
        "from textblob import TextBlob\n"
      ],
      "execution_count": 1,
      "outputs": [
        {
          "output_type": "stream",
          "text": [
            "[nltk_data] Downloading package stopwords to /root/nltk_data...\n",
            "[nltk_data]   Unzipping corpora/stopwords.zip.\n",
            "[nltk_data] Downloading package wordnet to /root/nltk_data...\n",
            "[nltk_data]   Unzipping corpora/wordnet.zip.\n"
          ],
          "name": "stdout"
        }
      ]
    },
    {
      "cell_type": "code",
      "metadata": {
        "id": "ky6jvsPM4lt2",
        "colab_type": "code",
        "colab": {}
      },
      "source": [
        "url = \"https://raw.githubusercontent.com/SMohata/ZS-Challenge/master/dataset/train.csv\"\n",
        "train = pd.read_csv(url, encoding = \"ISO-8859-1\")\n",
        "\n",
        "url = \"https://raw.githubusercontent.com/SMohata/ZS-Challenge/master/dataset/test.csv\"\n",
        "test = pd.read_csv(url, encoding = \"ISO-8859-1\")"
      ],
      "execution_count": 0,
      "outputs": []
    },
    {
      "cell_type": "code",
      "metadata": {
        "id": "P9luz4W15CB3",
        "colab_type": "code",
        "colab": {}
      },
      "source": [
        "train = train.replace(np.nan, '', regex=True)\n",
        "test = test.replace(np.nan, '', regex=True)"
      ],
      "execution_count": 0,
      "outputs": []
    },
    {
      "cell_type": "code",
      "metadata": {
        "id": "U2G_mbi4eIAL",
        "colab_type": "code",
        "colab": {
          "base_uri": "https://localhost:8080/",
          "height": 371
        },
        "outputId": "c0c87cca-9d5c-49c1-ba82-40f95129244c"
      },
      "source": [
        "df = train.append(test, ignore_index=True)\n",
        "df.head()"
      ],
      "execution_count": 4,
      "outputs": [
        {
          "output_type": "execute_result",
          "data": {
            "text/html": [
              "<div>\n",
              "<style scoped>\n",
              "    .dataframe tbody tr th:only-of-type {\n",
              "        vertical-align: middle;\n",
              "    }\n",
              "\n",
              "    .dataframe tbody tr th {\n",
              "        vertical-align: top;\n",
              "    }\n",
              "\n",
              "    .dataframe thead th {\n",
              "        text-align: right;\n",
              "    }\n",
              "</style>\n",
              "<table border=\"1\" class=\"dataframe\">\n",
              "  <thead>\n",
              "    <tr style=\"text-align: right;\">\n",
              "      <th></th>\n",
              "      <th>Date(ET)</th>\n",
              "      <th>Host</th>\n",
              "      <th>Index</th>\n",
              "      <th>Link</th>\n",
              "      <th>Patient_Tag</th>\n",
              "      <th>Source</th>\n",
              "      <th>TRANS_CONV_TEXT</th>\n",
              "      <th>Time(ET)</th>\n",
              "      <th>Title</th>\n",
              "      <th>Unnamed: 9</th>\n",
              "      <th>time(GMT)</th>\n",
              "    </tr>\n",
              "  </thead>\n",
              "  <tbody>\n",
              "    <tr>\n",
              "      <th>0</th>\n",
              "      <td>6/15/2016</td>\n",
              "      <td>cafepharma.com</td>\n",
              "      <td>NaN</td>\n",
              "      <td>http://cafepharma.com/boards/threads/epstein.5...</td>\n",
              "      <td>0.0</td>\n",
              "      <td>FORUMS</td>\n",
              "      <td>I don't disagree with you in principle. I'm ju...</td>\n",
              "      <td>13:58:00</td>\n",
              "      <td>Epstein</td>\n",
              "      <td>NaN</td>\n",
              "      <td>6/15/2016 23:28</td>\n",
              "    </tr>\n",
              "    <tr>\n",
              "      <th>1</th>\n",
              "      <td>5/7/2016</td>\n",
              "      <td>www.patient.co.uk</td>\n",
              "      <td>NaN</td>\n",
              "      <td>http://www.patient.co.uk/forums/discuss/enlarg...</td>\n",
              "      <td>1.0</td>\n",
              "      <td>FORUMS</td>\n",
              "      <td>I am always dizzy I get dizzy standing up so I...</td>\n",
              "      <td>0.820833333</td>\n",
              "      <td>Enlarged Heart.Thread Enlarged Heart</td>\n",
              "      <td>NaN</td>\n",
              "      <td>42498.21667</td>\n",
              "    </tr>\n",
              "    <tr>\n",
              "      <th>2</th>\n",
              "      <td>4/14/2016</td>\n",
              "      <td>http://abcnewsradioonline.com/entertainment-news</td>\n",
              "      <td>NaN</td>\n",
              "      <td>http://abcnewsradioonline.com/entertainment-ne...</td>\n",
              "      <td>0.0</td>\n",
              "      <td>BLOG</td>\n",
              "      <td>Axelle/Bauer-Griffin/FilmMagic(NEW YORK) -- Qu...</td>\n",
              "      <td>15:00:38</td>\n",
              "      <td>Queen Latifah Joins American Heart Association...</td>\n",
              "      <td>NaN</td>\n",
              "      <td>4/15/2016 0:30</td>\n",
              "    </tr>\n",
              "    <tr>\n",
              "      <th>3</th>\n",
              "      <td>6/18/2016</td>\n",
              "      <td>www.cancer-forums.net</td>\n",
              "      <td>NaN</td>\n",
              "      <td>http://www.cancer-forums.net/viewtopic.php?f=1...</td>\n",
              "      <td>1.0</td>\n",
              "      <td>FORUMS</td>\n",
              "      <td>I am 17 and I have been throwing up for about ...</td>\n",
              "      <td>20:46:00</td>\n",
              "      <td>Bulaemia</td>\n",
              "      <td>NaN</td>\n",
              "      <td>6/19/2016 6:16</td>\n",
              "    </tr>\n",
              "    <tr>\n",
              "      <th>4</th>\n",
              "      <td>6/15/2016</td>\n",
              "      <td>www.diyaudio.com</td>\n",
              "      <td>NaN</td>\n",
              "      <td>http://www.diyaudio.com/forums/lounge/292252-d...</td>\n",
              "      <td>0.0</td>\n",
              "      <td>FORUMS</td>\n",
              "      <td>Quote: Originally Posted by Boyan Silyavski Wa...</td>\n",
              "      <td>3:26:00</td>\n",
              "      <td>DIY Silver interconnects and RCAs???</td>\n",
              "      <td>NaN</td>\n",
              "      <td>6/15/2016 12:56</td>\n",
              "    </tr>\n",
              "  </tbody>\n",
              "</table>\n",
              "</div>"
            ],
            "text/plain": [
              "    Date(ET)  ...        time(GMT)\n",
              "0  6/15/2016  ...  6/15/2016 23:28\n",
              "1   5/7/2016  ...      42498.21667\n",
              "2  4/14/2016  ...   4/15/2016 0:30\n",
              "3  6/18/2016  ...   6/19/2016 6:16\n",
              "4  6/15/2016  ...  6/15/2016 12:56\n",
              "\n",
              "[5 rows x 11 columns]"
            ]
          },
          "metadata": {
            "tags": []
          },
          "execution_count": 4
        }
      ]
    },
    {
      "cell_type": "code",
      "metadata": {
        "colab_type": "code",
        "id": "2pg59zSkNo0T",
        "colab": {}
      },
      "source": [
        "import re\n",
        "i=0;\n",
        "for s in df['TRANS_CONV_TEXT'].values:\n",
        "    if (len(re.findall('<.*?>', s))):\n",
        "        break;\n",
        "    i += 1;\n",
        "stop = set(stopwords.words('english'))\n",
        "lemma = nltk.wordnet.WordNetLemmatizer()\n",
        "\n",
        "def cleanhtml(sentence):\n",
        "    cleanr = re.compile('<.*?>')\n",
        "    cleantext = re.sub(cleanr, ' ', sentence)\n",
        "    return cleantext\n",
        "def cleanpunc(sentence):\n",
        "    cleaned = re.sub(r'[?|!|\\'|\"|#]',r'',sentence)\n",
        "    cleaned = re.sub(r'[.|,|)|(|\\|/]',r' ',cleaned)\n",
        "    return  cleaned\n",
        "\n",
        "\n"
      ],
      "execution_count": 0,
      "outputs": []
    },
    {
      "cell_type": "code",
      "metadata": {
        "id": "6GCBHmmIt_HH",
        "colab_type": "code",
        "colab": {}
      },
      "source": [
        "i=0\n",
        "str1=' '\n",
        "final_string=[]\n",
        "all_positive_words=[]\n",
        "all_negative_words=[]\n",
        "s=''\n",
        "for sent in df['TRANS_CONV_TEXT'].values:\n",
        "    filtered_sentence=[]\n",
        "    sent=cleanhtml(sent)\n",
        "    for w in sent.split():\n",
        "        for cleaned_words in cleanpunc(w).split():\n",
        "            if((cleaned_words.isalpha()) & (len(cleaned_words)>2)):    \n",
        "                if(cleaned_words.lower() not in stop):\n",
        "                    s=(lemma.lemmatize(cleaned_words.lower())).encode('utf8')\n",
        "                    filtered_sentence.append(s)\n",
        "                    if (df['Patient_Tag'].values)[i] == 1: \n",
        "                        all_positive_words.append(s) \n",
        "                    if(df['Patient_Tag'].values)[i] == 0:\n",
        "                        all_negative_words.append(s)\n",
        "                else:\n",
        "                    continue\n",
        "            else:\n",
        "                continue \n",
        "                \n",
        "    str1 = b\" \".join(filtered_sentence)\n",
        "    \n",
        "    final_string.append(str1)\n",
        "    i+=1"
      ],
      "execution_count": 0,
      "outputs": []
    },
    {
      "cell_type": "code",
      "metadata": {
        "id": "6OkgL2avu04M",
        "colab_type": "code",
        "colab": {}
      },
      "source": [
        "df['CleanedText']=final_string \n",
        "df['CleanedText']=df['CleanedText'].str.decode(\"utf-8\")"
      ],
      "execution_count": 0,
      "outputs": []
    },
    {
      "cell_type": "code",
      "metadata": {
        "id": "zhjMvtCov5Ge",
        "colab_type": "code",
        "colab": {}
      },
      "source": [
        "tf_idf_vect = TfidfVectorizer(analyzer='word', strip_accents='ascii')\n",
        "transmess = tf_idf_vect.fit_transform(df['CleanedText'])\n",
        "tfidf_transformer = TfidfTransformer().fit(transmess)\n",
        "messages_tfidf = tfidf_transformer.transform(transmess)"
      ],
      "execution_count": 0,
      "outputs": []
    },
    {
      "cell_type": "code",
      "metadata": {
        "id": "3WzgXjGpJW-x",
        "colab_type": "code",
        "colab": {}
      },
      "source": [
        "train_bow = transmess[:1157,:]\n",
        "test_bow = transmess[1157:,:]"
      ],
      "execution_count": 0,
      "outputs": []
    },
    {
      "cell_type": "code",
      "metadata": {
        "id": "Jrf9StMRJcXX",
        "colab_type": "code",
        "colab": {}
      },
      "source": [
        "xtrain, xtest, ytrain, ytest = train_test_split(train_bow, train['Patient_Tag'],test_size=0.2,random_state=1)"
      ],
      "execution_count": 0,
      "outputs": []
    },
    {
      "cell_type": "code",
      "metadata": {
        "id": "wCdBMXY4lfQs",
        "colab_type": "code",
        "colab": {
          "base_uri": "https://localhost:8080/",
          "height": 199
        },
        "outputId": "6e1fc752-da58-40ae-b471-1deca427eec6"
      },
      "source": [
        "svm = (SVC(kernel='sigmoid',probability=True, ))\n",
        "svm.fit(xtrain,ytrain)\n",
        "print(classification_report( svm.predict(xtest) , ytest))\n",
        "print(accuracy_score( svm.predict(xtest) , ytest ))"
      ],
      "execution_count": 11,
      "outputs": [
        {
          "output_type": "stream",
          "text": [
            "              precision    recall  f1-score   support\n",
            "\n",
            "           0       0.97      0.90      0.93       201\n",
            "           1       0.56      0.81      0.66        31\n",
            "\n",
            "    accuracy                           0.89       232\n",
            "   macro avg       0.76      0.85      0.80       232\n",
            "weighted avg       0.91      0.89      0.90       232\n",
            "\n",
            "0.8879310344827587\n"
          ],
          "name": "stdout"
        }
      ]
    },
    {
      "cell_type": "code",
      "metadata": {
        "id": "PUeCWhhKn1d6",
        "colab_type": "code",
        "colab": {
          "base_uri": "https://localhost:8080/",
          "height": 90
        },
        "outputId": "0312fe56-5f81-4f0c-e4fd-cd23c8437d1a"
      },
      "source": [
        "y_pred = svm.predict(xtest)\n",
        "print(\"Accuracy on test set: %0.3f%%\"%(accuracy_score(ytest, y_pred)*100))\n",
        "print(\"Precision on test set: %0.3f\"%(precision_score(ytest, y_pred,average='macro')))\n",
        "print(\"Recall on test set: %0.3f\"%(recall_score(ytest, y_pred,average='macro')))\n",
        "print(\"F1-Score on test set: %0.3f\"%(f1_score(ytest, y_pred,average='macro')))"
      ],
      "execution_count": 12,
      "outputs": [
        {
          "output_type": "stream",
          "text": [
            "Accuracy on test set: 88.793%\n",
            "Precision on test set: 0.853\n",
            "Recall on test set: 0.762\n",
            "F1-Score on test set: 0.795\n"
          ],
          "name": "stdout"
        }
      ]
    },
    {
      "cell_type": "code",
      "metadata": {
        "id": "_d3bRw6rmJ68",
        "colab_type": "code",
        "colab": {
          "base_uri": "https://localhost:8080/",
          "height": 198
        },
        "outputId": "c49afe69-7375-4588-bf23-1c5a555c11b6"
      },
      "source": [
        "test_pred = svm.predict_proba(test_bow)\n",
        "test_pred_int = test_pred[:,1] >= 0.3\n",
        "test_pred_int = test_pred_int.astype(np.int)\n",
        "\n",
        "test['Patient_Tag'] = test_pred_int\n",
        "submission = test[['Index','Patient_Tag']]\n",
        "\n",
        "submission.head()"
      ],
      "execution_count": 13,
      "outputs": [
        {
          "output_type": "execute_result",
          "data": {
            "text/html": [
              "<div>\n",
              "<style scoped>\n",
              "    .dataframe tbody tr th:only-of-type {\n",
              "        vertical-align: middle;\n",
              "    }\n",
              "\n",
              "    .dataframe tbody tr th {\n",
              "        vertical-align: top;\n",
              "    }\n",
              "\n",
              "    .dataframe thead th {\n",
              "        text-align: right;\n",
              "    }\n",
              "</style>\n",
              "<table border=\"1\" class=\"dataframe\">\n",
              "  <thead>\n",
              "    <tr style=\"text-align: right;\">\n",
              "      <th></th>\n",
              "      <th>Index</th>\n",
              "      <th>Patient_Tag</th>\n",
              "    </tr>\n",
              "  </thead>\n",
              "  <tbody>\n",
              "    <tr>\n",
              "      <th>0</th>\n",
              "      <td>1</td>\n",
              "      <td>0</td>\n",
              "    </tr>\n",
              "    <tr>\n",
              "      <th>1</th>\n",
              "      <td>2</td>\n",
              "      <td>1</td>\n",
              "    </tr>\n",
              "    <tr>\n",
              "      <th>2</th>\n",
              "      <td>3</td>\n",
              "      <td>0</td>\n",
              "    </tr>\n",
              "    <tr>\n",
              "      <th>3</th>\n",
              "      <td>4</td>\n",
              "      <td>1</td>\n",
              "    </tr>\n",
              "    <tr>\n",
              "      <th>4</th>\n",
              "      <td>5</td>\n",
              "      <td>0</td>\n",
              "    </tr>\n",
              "  </tbody>\n",
              "</table>\n",
              "</div>"
            ],
            "text/plain": [
              "   Index  Patient_Tag\n",
              "0      1            0\n",
              "1      2            1\n",
              "2      3            0\n",
              "3      4            1\n",
              "4      5            0"
            ]
          },
          "metadata": {
            "tags": []
          },
          "execution_count": 13
        }
      ]
    },
    {
      "cell_type": "code",
      "metadata": {
        "id": "B25FEXTkGcwY",
        "colab_type": "code",
        "colab": {}
      },
      "source": [
        "from google.colab import drive\n",
        "drive.mount('drive')"
      ],
      "execution_count": 0,
      "outputs": []
    },
    {
      "cell_type": "code",
      "metadata": {
        "id": "AuNUmM5VGga2",
        "colab_type": "code",
        "colab": {}
      },
      "source": [
        "submission.to_csv('submit4.csv', index=False)\n",
        "#!cp submit4.csv \"drive/My Drive/\""
      ],
      "execution_count": 0,
      "outputs": []
    }
  ]
}